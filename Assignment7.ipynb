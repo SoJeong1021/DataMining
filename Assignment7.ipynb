{
 "cells": [
  {
   "cell_type": "code",
   "execution_count": 20,
   "metadata": {},
   "outputs": [
    {
     "data": {
      "text/plain": [
       "0.9591111111111111"
      ]
     },
     "execution_count": 20,
     "metadata": {},
     "output_type": "execute_result"
    }
   ],
   "source": [
    "import csv\n",
    "import numpy as np\n",
    "from sklearn.neighbors import KNeighborsClassifier\n",
    "from sklearn.linear_model import LogisticRegression\n",
    "\n",
    "x_1 = open(\"C:/Users/user/Downloads/student_health_3.csv\",\"r\", encoding=\"cp949\");\n",
    "x1 = csv.reader(x_1)\n",
    "\n",
    "row1 = []\n",
    "row2 = []\n",
    "row3 = []\n",
    "row4 = []\n",
    "row5 = []\n",
    "for row in x1:\n",
    "    row1.append(row[23])\n",
    "    row2.append(row[24]) \n",
    "    row3.append(row[15])\n",
    "    row4.append(row[16])\n",
    "    row5.append(row[11])\n",
    "\t\n",
    "x_1.close()\n",
    "\n",
    "row_s = []\n",
    "row_n = []\n",
    "\n",
    "for idx_r in range(1,len(row3)):\n",
    "    row_n.append(float(row5[idx_r]))\n",
    "    row_s.append([float(row1[idx_r]), float(row2[idx_r]),float(row3[idx_r]),float(row4[idx_r])])\n",
    "                 \n",
    "clf = LogisticRegression(random_state = 0).fit(row_s,row_n)\n",
    "\n",
    "row = clf.predict(row_s)\n",
    "clf.predict_proba(row_s)\n",
    "clf.score(row_s,row_n)\n",
    "\n",
    "#for i in range (0,1124):\n",
    "#    print(row[i])\n"
   ]
  },
  {
   "cell_type": "code",
   "execution_count": null,
   "metadata": {},
   "outputs": [],
   "source": []
  },
  {
   "cell_type": "code",
   "execution_count": null,
   "metadata": {},
   "outputs": [],
   "source": []
  },
  {
   "cell_type": "code",
   "execution_count": null,
   "metadata": {},
   "outputs": [],
   "source": []
  },
  {
   "cell_type": "code",
   "execution_count": null,
   "metadata": {},
   "outputs": [],
   "source": []
  },
  {
   "cell_type": "code",
   "execution_count": null,
   "metadata": {},
   "outputs": [],
   "source": [
    "neigh = KNeighborsClassifier(n_neighbors=6)\n",
    "neigh.fit(row_s, row_n);\n",
    "\n",
    "real1 = neigh.predict([[1500000, 20000, 500000]])\n",
    "print(real1)"
   ]
  }
 ],
 "metadata": {
  "kernelspec": {
   "display_name": "Python 3",
   "language": "python",
   "name": "python3"
  },
  "language_info": {
   "codemirror_mode": {
    "name": "ipython",
    "version": 3
   },
   "file_extension": ".py",
   "mimetype": "text/x-python",
   "name": "python",
   "nbconvert_exporter": "python",
   "pygments_lexer": "ipython3",
   "version": "3.7.7"
  }
 },
 "nbformat": 4,
 "nbformat_minor": 4
}
